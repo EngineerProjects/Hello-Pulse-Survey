{
 "cells": [
  {
   "cell_type": "code",
   "execution_count": 1,
   "id": "fd999216",
   "metadata": {},
   "outputs": [],
   "source": [
    "import pandas as pd\n",
    "import numpy as np"
   ]
  },
  {
   "cell_type": "code",
   "execution_count": 2,
   "id": "1851f985",
   "metadata": {},
   "outputs": [
    {
     "data": {
      "text/plain": [
       "((599, 25), (423, 24))"
      ]
     },
     "execution_count": 2,
     "metadata": {},
     "output_type": "execute_result"
    }
   ],
   "source": [
    "df1 = pd.read_csv('data/donnee_test.csv', sep=';', skiprows=1)\n",
    "df2 = pd.read_csv('data/etude_prolific.csv', sep=';', skiprows=1)\n",
    "\n",
    "df1.shape, df2.shape"
   ]
  },
  {
   "cell_type": "code",
   "execution_count": 7,
   "id": "d034309d",
   "metadata": {},
   "outputs": [
    {
     "name": "stdout",
     "output_type": "stream",
     "text": [
      "<class 'pandas.core.frame.DataFrame'>\n",
      "RangeIndex: 599 entries, 0 to 598\n",
      "Data columns (total 25 columns):\n",
      " #   Column                    Non-Null Count  Dtype  \n",
      "---  ------                    --------------  -----  \n",
      " 0   Session ID                599 non-null    object \n",
      " 1   Response ID               596 non-null    object \n",
      " 2   Response Type             490 non-null    object \n",
      " 3   Questionnaire Type        409 non-null    object \n",
      " 4   Completion Status         202 non-null    object \n",
      " 5   Created At                151 non-null    object \n",
      " 6   Completed At              66 non-null     object \n",
      " 7   Language                  66 non-null     object \n",
      " 8   Prolific ID               40 non-null     object \n",
      " 9   Session Code              0 non-null      float64\n",
      " 10  Education Level           40 non-null     object \n",
      " 11  Education Other           0 non-null      float64\n",
      " 12  Brainstorming Experience  40 non-null     object \n",
      " 13  Brainstorming Modalities  37 non-null     object \n",
      " 14  Creativity Level          40 non-null     float64\n",
      " 15  AI Tools Usage            40 non-null     object \n",
      " 16  AI Creative Process       40 non-null     object \n",
      " 17  AI Tool Specification     40 non-null     object \n",
      " 18  AI Comfort Level          40 non-null     float64\n",
      " 19  Environment Ready         40 non-null     object \n",
      " 20  Instructions Understood   40 non-null     object \n",
      " 21  Consent Confirmation      40 non-null     object \n",
      " 22  Group                     0 non-null      float64\n",
      " 23  Responses (JSON)          40 non-null     object \n",
      " 24  Metadata (JSON)           40 non-null     object \n",
      "dtypes: float64(5), object(20)\n",
      "memory usage: 117.1+ KB\n"
     ]
    }
   ],
   "source": [
    "df1.info()"
   ]
  },
  {
   "cell_type": "code",
   "execution_count": 8,
   "id": "cb5ce7ab",
   "metadata": {},
   "outputs": [
    {
     "name": "stdout",
     "output_type": "stream",
     "text": [
      "<class 'pandas.core.frame.DataFrame'>\n",
      "RangeIndex: 423 entries, 0 to 422\n",
      "Data columns (total 24 columns):\n",
      " #   Column                                     Non-Null Count  Dtype  \n",
      "---  ------                                     --------------  -----  \n",
      " 0   Submission id                              423 non-null    object \n",
      " 1   Participant id                             81 non-null     object \n",
      " 2   Status                                     86 non-null     object \n",
      " 3   Started at                                 87 non-null     object \n",
      " 4   Completed at                               87 non-null     object \n",
      " 5   Reviewed at                                77 non-null     object \n",
      " 6   Archived at                                73 non-null     object \n",
      " 7   Time taken                                 61 non-null     object \n",
      " 8   Total approvals                            57 non-null     object \n",
      " 9   Sex                                        53 non-null     object \n",
      " 10  Ethnicity simplified                       51 non-null     object \n",
      " 11  Country of birth                           51 non-null     object \n",
      " 12  Country of residence                       51 non-null     object \n",
      " 13  Nationality                                51 non-null     object \n",
      " 14  Language                                   51 non-null     object \n",
      " 15  Student status                             51 non-null     object \n",
      " 16  Employment status                          51 non-null     object \n",
      " 17  Session ID                                 51 non-null     object \n",
      " 18  Groupe                                     51 non-null     object \n",
      " 19  Question de brainstorming (onboarding)     51 non-null     object \n",
      " 20  Session de brainstorming (initial_survey)  51 non-null     object \n",
      " 21  Question final (brainstorming_session)     0 non-null      float64\n",
      " 22  Temps de complétion (final_survey)         0 non-null      float64\n",
      " 23  Metadata (Json)                            0 non-null      float64\n",
      "dtypes: float64(3), object(21)\n",
      "memory usage: 79.4+ KB\n"
     ]
    }
   ],
   "source": [
    "df2.info()"
   ]
  },
  {
   "cell_type": "code",
   "execution_count": 9,
   "id": "9c60955d",
   "metadata": {},
   "outputs": [
    {
     "data": {
      "text/plain": [
       "(Index(['Session ID', 'Response ID', 'Response Type', 'Questionnaire Type',\n",
       "        'Completion Status', 'Created At', 'Completed At', 'Language',\n",
       "        'Prolific ID', 'Session Code', 'Education Level', 'Education Other',\n",
       "        'Brainstorming Experience', 'Brainstorming Modalities',\n",
       "        'Creativity Level', 'AI Tools Usage', 'AI Creative Process',\n",
       "        'AI Tool Specification', 'AI Comfort Level', 'Environment Ready',\n",
       "        'Instructions Understood', 'Consent Confirmation', 'Group',\n",
       "        'Responses (JSON)', 'Metadata (JSON)'],\n",
       "       dtype='object'),\n",
       " Index(['Submission id', 'Participant id', 'Status', 'Started at',\n",
       "        'Completed at', 'Reviewed at', 'Archived at', 'Time taken',\n",
       "        'Total approvals', 'Sex', 'Ethnicity simplified', 'Country of birth',\n",
       "        'Country of residence', 'Nationality', 'Language', 'Student status',\n",
       "        'Employment status', 'Session ID', 'Groupe',\n",
       "        'Question de brainstorming (onboarding)',\n",
       "        'Session de brainstorming (initial_survey)',\n",
       "        'Question final (brainstorming_session)',\n",
       "        'Temps de complétion (final_survey)', 'Metadata (Json)'],\n",
       "       dtype='object'))"
      ]
     },
     "execution_count": 9,
     "metadata": {},
     "output_type": "execute_result"
    }
   ],
   "source": [
    "df1.columns, df2.columns"
   ]
  },
  {
   "cell_type": "code",
   "execution_count": 11,
   "id": "077b5675",
   "metadata": {},
   "outputs": [
    {
     "name": "stdout",
     "output_type": "stream",
     "text": [
      "Colonne JSON trouvée dans df1: Response ID\n",
      "Colonne JSON trouvée dans df1: Responses (JSON)\n",
      "Colonne JSON trouvée dans df1: Metadata (JSON)\n"
     ]
    }
   ],
   "source": [
    "# Trouver les colonnes JSON automatiquement\n",
    "for col in df1.columns:\n",
    "    sample = df1[col].dropna().iloc[0] if len(df1[col].dropna()) > 0 else \"\"\n",
    "    if isinstance(sample, str) and sample.startswith('{'):\n",
    "        print(f\"Colonne JSON trouvée dans df1: {col}\")\n",
    "\n",
    "for col in df2.columns:\n",
    "    sample = df2[col].dropna().iloc[0] if len(df2[col].dropna()) > 0 else \"\"\n",
    "    if isinstance(sample, str) and sample.startswith('{'):\n",
    "        print(f\"Colonne JSON trouvée dans df2: {col}\")"
   ]
  },
  {
   "cell_type": "code",
   "execution_count": null,
   "id": "84f02dd3",
   "metadata": {},
   "outputs": [],
   "source": []
  }
 ],
 "metadata": {
  "kernelspec": {
   "display_name": "base",
   "language": "python",
   "name": "python3"
  },
  "language_info": {
   "codemirror_mode": {
    "name": "ipython",
    "version": 3
   },
   "file_extension": ".py",
   "mimetype": "text/x-python",
   "name": "python",
   "nbconvert_exporter": "python",
   "pygments_lexer": "ipython3",
   "version": "3.13.7"
  }
 },
 "nbformat": 4,
 "nbformat_minor": 5
}
